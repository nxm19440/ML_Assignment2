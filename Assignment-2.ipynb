{
  "nbformat": 4,
  "nbformat_minor": 0,
  "metadata": {
    "colab": {
      "provenance": []
    },
    "kernelspec": {
      "name": "python3",
      "display_name": "Python 3"
    },
    "language_info": {
      "name": "python"
    }
  },
  "cells": [
    {
      "cell_type": "markdown",
      "source": [
        "**1. Use a python code to display the following star pattern using the for loop**\n"
      ],
      "metadata": {
        "id": "VUHP9ATI4IEP"
      }
    },
    {
      "cell_type": "code",
      "execution_count": 31,
      "metadata": {
        "colab": {
          "base_uri": "https://localhost:8080/"
        },
        "id": "_MyLxMIz0Nda",
        "outputId": "82a70768-e997-45dd-817a-43047c87ba4c"
      },
      "outputs": [
        {
          "output_type": "stream",
          "name": "stdout",
          "text": [
            "\n",
            "*\n",
            "**\n",
            "***\n",
            "****\n",
            "*****\n",
            "****\n",
            "***\n",
            "**\n",
            "*\n"
          ]
        }
      ],
      "source": [
        "for x in range(0,6):     # Using range function print * required number of times. \n",
        "  print(x*'*')\n",
        "for x in range(4,0,-1):  # Using -1 in the last parameter to print it in reverse order.\n",
        "  print(x*'*')"
      ]
    },
    {
      "cell_type": "markdown",
      "source": [
        "**2. Use looping to output the elements from a provided list present at odd indexes.\n",
        "my_list = [10, 20, 30, 40, 50, 60, 70, 80, 90, 100]**"
      ],
      "metadata": {
        "id": "8X7q_KJJ4Smm"
      }
    },
    {
      "cell_type": "code",
      "source": [
        "my_list=[10,20,30,40,50,60,70,80,90,100]            #Given List\n",
        "\n",
        "\n",
        "print('my_list = ', my_list, '\\n')\n",
        "\n",
        "print('Elements at odd indexes are:')\n",
        "for num in range(1,len(my_list),2):                    #Using len() function in the for loop to find out the length of the list.\n",
        "  print('Element at index', num, 'is ', my_list[num])   "
      ],
      "metadata": {
        "colab": {
          "base_uri": "https://localhost:8080/"
        },
        "id": "KXwmjklF4G9N",
        "outputId": "436c3ce1-186c-40f0-abaa-bf2a665a2f6a"
      },
      "execution_count": 62,
      "outputs": [
        {
          "output_type": "stream",
          "name": "stdout",
          "text": [
            "my_list =  [10, 20, 30, 40, 50, 60, 70, 80, 90, 100] \n",
            "\n",
            "Elements at odd indexes are:\n",
            "Element at index 1 is  20\n",
            "Element at index 3 is  40\n",
            "Element at index 5 is  60\n",
            "Element at index 7 is  80\n",
            "Element at index 9 is  100\n"
          ]
        }
      ]
    },
    {
      "cell_type": "markdown",
      "source": [
        "**3. Write a code that appends the type of elements from a given list.\n",
        "Input\n",
        "x = [23, ‘Python’, 23.98]\n",
        "Expected output\n",
        "[23, 'Python', 23.98]\n",
        "[<class 'int'>, <class 'str'>, <class 'float'>]**"
      ],
      "metadata": {
        "id": "eezVVZbX5ykE"
      }
    },
    {
      "cell_type": "code",
      "source": [
        "x=[23, 'Python', 23.98]   #Given List\n",
        "y=[]                      #Defining a List\n",
        " \n",
        "print(x)\n",
        "for elem in x:\n",
        "  y.append(type(elem))    #In the for loop, appending the type of each element of the 'x' list into the newly defined list y\n",
        "\n",
        "print(y)"
      ],
      "metadata": {
        "colab": {
          "base_uri": "https://localhost:8080/"
        },
        "id": "se5YYaZ654dh",
        "outputId": "9d34bbeb-f737-4284-8fda-64cb84269fe6"
      },
      "execution_count": 51,
      "outputs": [
        {
          "output_type": "stream",
          "name": "stdout",
          "text": [
            "[23, 'Python', 23.98]\n",
            "[<class 'int'>, <class 'str'>, <class 'float'>]\n"
          ]
        }
      ]
    },
    {
      "cell_type": "markdown",
      "source": [
        "**4. Write a function that takes a list and returns a new list with unique items of the first list.\n",
        "Sample List: [1,2,3,3,3,3,4,5]\n",
        "Unique List: [1, 2, 3, 4, 5]**"
      ],
      "metadata": {
        "id": "VCHGpLHO6yjp"
      }
    },
    {
      "cell_type": "code",
      "source": [
        "sample_list=[1,2,3,3,3,3,4,5]\n",
        "print(sample_list)\n",
        "\n",
        "unique_set= set(sample_list)   #Using set() function to print the unique elements in a list and appending it into a set\n",
        "unique_list=[]\n",
        "\n",
        "for num in unique_set:        \n",
        "  unique_list.append(num)      #Retrieving each element from a set and appending it to a new list.\n",
        "print(unique_list)\n"
      ],
      "metadata": {
        "colab": {
          "base_uri": "https://localhost:8080/"
        },
        "id": "iq5DeiDr62Iz",
        "outputId": "979237ff-a06e-411c-aeb2-542e053286d6"
      },
      "execution_count": 54,
      "outputs": [
        {
          "output_type": "stream",
          "name": "stdout",
          "text": [
            "[1, 2, 3, 3, 3, 3, 4, 5]\n",
            "[1, 2, 3, 4, 5]\n"
          ]
        }
      ]
    },
    {
      "cell_type": "markdown",
      "source": [
        "**5. Write a function that accepts a string and calculate the number of upper-case letters and lower-case\n",
        "letters.\n",
        "Input String: 'The quick Brow Fox'\n",
        "Expected Output:\n",
        "No. of Upper-case characters: 3\n",
        "No. of Lower-case Characters: 12**"
      ],
      "metadata": {
        "id": "0NXDchIp7oh_"
      }
    },
    {
      "cell_type": "code",
      "source": [
        "input_String='The quick Brow Fox'\n",
        "print('Given String:  ', input_String,'\\n')\n",
        "\n",
        "d={'upper_case':0, 'lower_case':0}         #Defining a dictionary\n",
        "\n",
        "def test(s):  \n",
        "  for character in s:\n",
        "    if character.isupper():      #Using isupper() of String\n",
        "      d['upper_case']+=1\n",
        "    if character.islower():      #Using islower() of String\n",
        "      d['lower_case']+=1         \n",
        "    else:\n",
        "       pass\n",
        "  \n",
        "test(input_String)\n",
        "print(d)\n",
        "print('Number of Upper-case characters: ', d['upper_case'])  # Retrieving the number of upper_case\n",
        "print('Number of Lower-case characters: ', d['lower_case'])  # Retrieving the number of lower_case\n",
        "\n",
        "\n"
      ],
      "metadata": {
        "colab": {
          "base_uri": "https://localhost:8080/"
        },
        "id": "61R8wVMz7svM",
        "outputId": "3f88d800-cd9d-4b30-c8aa-792aa1c0b439"
      },
      "execution_count": 60,
      "outputs": [
        {
          "output_type": "stream",
          "name": "stdout",
          "text": [
            "Given String:   The quick Brow Fox \n",
            "\n",
            "{'upper_case': 3, 'lower_case': 12}\n",
            "Number of Upper-case characters:  3\n",
            "Number of Lower-case characters:  12\n"
          ]
        }
      ]
    }
  ]
}